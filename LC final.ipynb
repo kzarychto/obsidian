{
 "cells": [
  {
   "cell_type": "markdown",
   "metadata": {},
   "source": [
    "## Imports "
   ]
  },
  {
   "cell_type": "code",
   "execution_count": 278,
   "metadata": {},
   "outputs": [],
   "source": [
    "import pandas as pd\n",
    "import matplotlib.pyplot as plt\n",
    "import seaborn as sns\n",
    "import numpy as np\n",
    "from scipy.stats import norm\n",
    "from scipy import stats\n",
    "import pandas_profiling\n",
    "import warnings\n",
    "warnings.filterwarnings('ignore')\n",
    "%matplotlib inline\n",
    "\n",
    "from sklearn.preprocessing import StandardScaler\n",
    "from sklearn.ensemble import RandomForestClassifier\n",
    "from sklearn.linear_model import LogisticRegression\n",
    "from sklearn.model_selection import cross_val_score, cross_val_predict\n",
    "from sklearn.metrics import accuracy_score, classification_report, confusion_matrix\n",
    "from sklearn.model_selection import train_test_split\n",
    "from sklearn.metrics import roc_auc_score, roc_curve\n",
    "#from sklearn.model_selection import KFold, StratifiedKFold\n",
    "from imblearn.over_sampling import SMOTE"
   ]
  },
  {
   "cell_type": "markdown",
   "metadata": {},
   "source": [
    "Reading data in"
   ]
  },
  {
   "cell_type": "code",
   "execution_count": 279,
   "metadata": {},
   "outputs": [],
   "source": [
    "df = pd.read_csv('../data/loan.csv')"
   ]
  },
  {
   "cell_type": "markdown",
   "metadata": {},
   "source": [
    "Selecting only the relevant columns"
   ]
  },
  {
   "cell_type": "code",
   "execution_count": 280,
   "metadata": {},
   "outputs": [],
   "source": [
    "df = df[['loan_amnt', 'funded_amnt','term','int_rate','grade',\n",
    "        'annual_inc', 'issue_d', 'dti', 'revol_bal','total_pymnt','loan_status']]"
   ]
  },
  {
   "cell_type": "code",
   "execution_count": 281,
   "metadata": {},
   "outputs": [],
   "source": [
    "df_raw = df.copy()\n",
    "#df = df_raw"
   ]
  },
  {
   "cell_type": "markdown",
   "metadata": {},
   "source": [
    "## Data inspection"
   ]
  },
  {
   "cell_type": "markdown",
   "metadata": {},
   "source": [
    "Quick look at the data"
   ]
  },
  {
   "cell_type": "code",
   "execution_count": 282,
   "metadata": {},
   "outputs": [
    {
     "data": {
      "text/html": [
       "<div>\n",
       "<style scoped>\n",
       "    .dataframe tbody tr th:only-of-type {\n",
       "        vertical-align: middle;\n",
       "    }\n",
       "\n",
       "    .dataframe tbody tr th {\n",
       "        vertical-align: top;\n",
       "    }\n",
       "\n",
       "    .dataframe thead th {\n",
       "        text-align: right;\n",
       "    }\n",
       "</style>\n",
       "<table border=\"1\" class=\"dataframe\">\n",
       "  <thead>\n",
       "    <tr style=\"text-align: right;\">\n",
       "      <th></th>\n",
       "      <th>loan_amnt</th>\n",
       "      <th>funded_amnt</th>\n",
       "      <th>term</th>\n",
       "      <th>int_rate</th>\n",
       "      <th>grade</th>\n",
       "      <th>annual_inc</th>\n",
       "      <th>issue_d</th>\n",
       "      <th>dti</th>\n",
       "      <th>revol_bal</th>\n",
       "      <th>total_pymnt</th>\n",
       "      <th>loan_status</th>\n",
       "    </tr>\n",
       "  </thead>\n",
       "  <tbody>\n",
       "    <tr>\n",
       "      <th>0</th>\n",
       "      <td>5000.0</td>\n",
       "      <td>5000.0</td>\n",
       "      <td>36 months</td>\n",
       "      <td>10.65</td>\n",
       "      <td>B</td>\n",
       "      <td>24000.0</td>\n",
       "      <td>Dec-2011</td>\n",
       "      <td>27.65</td>\n",
       "      <td>13648.0</td>\n",
       "      <td>5861.071414</td>\n",
       "      <td>Fully Paid</td>\n",
       "    </tr>\n",
       "    <tr>\n",
       "      <th>1</th>\n",
       "      <td>2500.0</td>\n",
       "      <td>2500.0</td>\n",
       "      <td>60 months</td>\n",
       "      <td>15.27</td>\n",
       "      <td>C</td>\n",
       "      <td>30000.0</td>\n",
       "      <td>Dec-2011</td>\n",
       "      <td>1.00</td>\n",
       "      <td>1687.0</td>\n",
       "      <td>1008.710000</td>\n",
       "      <td>Charged Off</td>\n",
       "    </tr>\n",
       "    <tr>\n",
       "      <th>2</th>\n",
       "      <td>2400.0</td>\n",
       "      <td>2400.0</td>\n",
       "      <td>36 months</td>\n",
       "      <td>15.96</td>\n",
       "      <td>C</td>\n",
       "      <td>12252.0</td>\n",
       "      <td>Dec-2011</td>\n",
       "      <td>8.72</td>\n",
       "      <td>2956.0</td>\n",
       "      <td>3003.653644</td>\n",
       "      <td>Fully Paid</td>\n",
       "    </tr>\n",
       "    <tr>\n",
       "      <th>3</th>\n",
       "      <td>10000.0</td>\n",
       "      <td>10000.0</td>\n",
       "      <td>36 months</td>\n",
       "      <td>13.49</td>\n",
       "      <td>C</td>\n",
       "      <td>49200.0</td>\n",
       "      <td>Dec-2011</td>\n",
       "      <td>20.00</td>\n",
       "      <td>5598.0</td>\n",
       "      <td>12226.302212</td>\n",
       "      <td>Fully Paid</td>\n",
       "    </tr>\n",
       "    <tr>\n",
       "      <th>4</th>\n",
       "      <td>3000.0</td>\n",
       "      <td>3000.0</td>\n",
       "      <td>60 months</td>\n",
       "      <td>12.69</td>\n",
       "      <td>B</td>\n",
       "      <td>80000.0</td>\n",
       "      <td>Dec-2011</td>\n",
       "      <td>17.94</td>\n",
       "      <td>27783.0</td>\n",
       "      <td>3242.170000</td>\n",
       "      <td>Current</td>\n",
       "    </tr>\n",
       "  </tbody>\n",
       "</table>\n",
       "</div>"
      ],
      "text/plain": [
       "   loan_amnt  funded_amnt        term  int_rate grade  annual_inc   issue_d  \\\n",
       "0     5000.0       5000.0   36 months     10.65     B     24000.0  Dec-2011   \n",
       "1     2500.0       2500.0   60 months     15.27     C     30000.0  Dec-2011   \n",
       "2     2400.0       2400.0   36 months     15.96     C     12252.0  Dec-2011   \n",
       "3    10000.0      10000.0   36 months     13.49     C     49200.0  Dec-2011   \n",
       "4     3000.0       3000.0   60 months     12.69     B     80000.0  Dec-2011   \n",
       "\n",
       "     dti  revol_bal   total_pymnt  loan_status  \n",
       "0  27.65    13648.0   5861.071414   Fully Paid  \n",
       "1   1.00     1687.0   1008.710000  Charged Off  \n",
       "2   8.72     2956.0   3003.653644   Fully Paid  \n",
       "3  20.00     5598.0  12226.302212   Fully Paid  \n",
       "4  17.94    27783.0   3242.170000      Current  "
      ]
     },
     "execution_count": 282,
     "metadata": {},
     "output_type": "execute_result"
    }
   ],
   "source": [
    "df.head()"
   ]
  },
  {
   "cell_type": "markdown",
   "metadata": {},
   "source": [
    "There are 887k loans in total"
   ]
  },
  {
   "cell_type": "code",
   "execution_count": 283,
   "metadata": {},
   "outputs": [
    {
     "data": {
      "text/plain": [
       "(887379, 11)"
      ]
     },
     "execution_count": 283,
     "metadata": {},
     "output_type": "execute_result"
    }
   ],
   "source": [
    "df.shape"
   ]
  },
  {
   "cell_type": "markdown",
   "metadata": {},
   "source": [
    "Running pandas profiler tool"
   ]
  },
  {
   "cell_type": "code",
   "execution_count": 284,
   "metadata": {
    "scrolled": true
   },
   "outputs": [],
   "source": [
    "#pandas_profiling.ProfileReport(df)"
   ]
  },
  {
   "cell_type": "markdown",
   "metadata": {},
   "source": [
    "## Data cleaning"
   ]
  },
  {
   "cell_type": "markdown",
   "metadata": {},
   "source": [
    "### Format transformation "
   ]
  },
  {
   "cell_type": "markdown",
   "metadata": {},
   "source": [
    "Removing all the trailing whitespaces"
   ]
  },
  {
   "cell_type": "code",
   "execution_count": 285,
   "metadata": {},
   "outputs": [],
   "source": [
    "df = df.apply(lambda x: x.str.strip() if x.dtype == \"object\" else x)"
   ]
  },
  {
   "cell_type": "markdown",
   "metadata": {},
   "source": [
    "Creating year and month columns for dates to analyze distribution over years"
   ]
  },
  {
   "cell_type": "code",
   "execution_count": 286,
   "metadata": {},
   "outputs": [],
   "source": [
    "df['issue_month'], df['issue_year'] = df['issue_d'].str.split('-', 1).str\n",
    "df['issue_d'] = df['issue_d'].astype('datetime64[ns]')"
   ]
  },
  {
   "cell_type": "markdown",
   "metadata": {},
   "source": [
    "### Missing values treatment "
   ]
  },
  {
   "cell_type": "markdown",
   "metadata": {},
   "source": [
    "Only annual_inc has missing values (4)"
   ]
  },
  {
   "cell_type": "code",
   "execution_count": 287,
   "metadata": {
    "scrolled": true
   },
   "outputs": [
    {
     "data": {
      "text/plain": [
       "annual_inc     4\n",
       "issue_year     0\n",
       "issue_month    0\n",
       "loan_status    0\n",
       "total_pymnt    0\n",
       "dtype: int64"
      ]
     },
     "execution_count": 287,
     "metadata": {},
     "output_type": "execute_result"
    }
   ],
   "source": [
    "df.isnull().sum().sort_values(ascending=False).head()"
   ]
  },
  {
   "cell_type": "markdown",
   "metadata": {},
   "source": [
    "#### Interpolation of values"
   ]
  },
  {
   "cell_type": "markdown",
   "metadata": {},
   "source": [
    "We're filling in missing values for annual income - only variable with misssing value. Since the annual income is highly correlated with funded amount, interpoloation was used as a method to fill in NAs."
   ]
  },
  {
   "cell_type": "code",
   "execution_count": 288,
   "metadata": {},
   "outputs": [],
   "source": [
    "df['annual_inc'] = df[['annual_inc', 'funded_amnt']].interpolate(method='values')[['annual_inc']]"
   ]
  },
  {
   "cell_type": "code",
   "execution_count": 468,
   "metadata": {},
   "outputs": [],
   "source": [
    "df_clean = df.copy()\n",
    "#df = df_clean"
   ]
  },
  {
   "cell_type": "markdown",
   "metadata": {},
   "source": [
    "There are no more missing values"
   ]
  },
  {
   "cell_type": "code",
   "execution_count": 469,
   "metadata": {},
   "outputs": [
    {
     "data": {
      "text/plain": [
       "issue_year     0\n",
       "issue_month    0\n",
       "loan_status    0\n",
       "total_pymnt    0\n",
       "revol_bal      0\n",
       "dtype: int64"
      ]
     },
     "execution_count": 469,
     "metadata": {},
     "output_type": "execute_result"
    }
   ],
   "source": [
    "df.isnull().sum().sort_values(ascending=False).head()"
   ]
  },
  {
   "cell_type": "markdown",
   "metadata": {},
   "source": [
    "## Data selection"
   ]
  },
  {
   "cell_type": "markdown",
   "metadata": {},
   "source": [
    "We select only loans with 36 months term"
   ]
  },
  {
   "cell_type": "code",
   "execution_count": 470,
   "metadata": {},
   "outputs": [],
   "source": [
    "df = df.loc[df.term == '36 months']"
   ]
  },
  {
   "cell_type": "markdown",
   "metadata": {},
   "source": [
    "Term variable is now redundant"
   ]
  },
  {
   "cell_type": "code",
   "execution_count": 471,
   "metadata": {},
   "outputs": [],
   "source": [
    "df.drop(['term'],axis=1,inplace=True)"
   ]
  },
  {
   "cell_type": "markdown",
   "metadata": {},
   "source": [
    "Last loan is from Dec 2015"
   ]
  },
  {
   "cell_type": "code",
   "execution_count": 472,
   "metadata": {},
   "outputs": [
    {
     "name": "stdout",
     "output_type": "stream",
     "text": [
      "2015-12-01 00:00:00\n"
     ]
    }
   ],
   "source": [
    "print(max(df.issue_d))"
   ]
  },
  {
   "cell_type": "markdown",
   "metadata": {},
   "source": [
    "We select only loans which were issued at least 36 months ago (until Dec 2012)"
   ]
  },
  {
   "cell_type": "code",
   "execution_count": 473,
   "metadata": {},
   "outputs": [],
   "source": [
    "df.issue_year = df.issue_year.astype(int)\n",
    "df = df.loc[df.issue_year < 2013]"
   ]
  },
  {
   "cell_type": "markdown",
   "metadata": {},
   "source": [
    "There are 75k loans with term of 36 months that were issued until Dec 2012"
   ]
  },
  {
   "cell_type": "code",
   "execution_count": 474,
   "metadata": {},
   "outputs": [
    {
     "data": {
      "text/plain": [
       "(75004, 12)"
      ]
     },
     "execution_count": 474,
     "metadata": {},
     "output_type": "execute_result"
    }
   ],
   "source": [
    "df.shape"
   ]
  },
  {
   "cell_type": "code",
   "execution_count": 476,
   "metadata": {},
   "outputs": [],
   "source": [
    "df_subset = df.copy()\n",
    "#df = df_subset"
   ]
  },
  {
   "cell_type": "markdown",
   "metadata": {},
   "source": [
    "## Target variable definition "
   ]
  },
  {
   "cell_type": "markdown",
   "metadata": {},
   "source": [
    "As per Part 2, assuming that all non-fully paid loans are defaulted"
   ]
  },
  {
   "cell_type": "code",
   "execution_count": 477,
   "metadata": {},
   "outputs": [
    {
     "data": {
      "text/plain": [
       "0    63357\n",
       "1    11647\n",
       "Name: default, dtype: int64"
      ]
     },
     "execution_count": 477,
     "metadata": {},
     "output_type": "execute_result"
    }
   ],
   "source": [
    "df['default'] = 1\n",
    "df.loc[df['loan_status'].isin(['Fully Paid'])\n",
    "       , 'default'] = 0\n",
    "df['default'].value_counts()"
   ]
  },
  {
   "cell_type": "markdown",
   "metadata": {},
   "source": [
    "Default rate of 15.5% (Note that it's sligthly different than answer in Part 2 as loans not meeting credit policy were excluded there)"
   ]
  },
  {
   "cell_type": "code",
   "execution_count": 478,
   "metadata": {},
   "outputs": [
    {
     "data": {
      "text/plain": [
       "0.15528505146392194"
      ]
     },
     "execution_count": 478,
     "metadata": {},
     "output_type": "execute_result"
    }
   ],
   "source": [
    "df.default.mean()"
   ]
  },
  {
   "cell_type": "markdown",
   "metadata": {},
   "source": [
    "Loan status variable is now redundant"
   ]
  },
  {
   "cell_type": "code",
   "execution_count": 479,
   "metadata": {},
   "outputs": [],
   "source": [
    "df.drop(['loan_status'],axis=1,inplace=True)"
   ]
  },
  {
   "cell_type": "markdown",
   "metadata": {},
   "source": [
    "## Feature transformation"
   ]
  },
  {
   "cell_type": "markdown",
   "metadata": {},
   "source": [
    "### Annual income"
   ]
  },
  {
   "cell_type": "code",
   "execution_count": 480,
   "metadata": {
    "scrolled": true
   },
   "outputs": [
    {
     "data": {
      "text/plain": [
       "count    7.500400e+04\n",
       "mean     6.726449e+04\n",
       "std      6.194995e+04\n",
       "min      1.896000e+03\n",
       "25%      4.000000e+04\n",
       "50%      5.700000e+04\n",
       "75%      8.000000e+04\n",
       "max      7.141778e+06\n",
       "Name: annual_inc, dtype: float64"
      ]
     },
     "execution_count": 480,
     "metadata": {},
     "output_type": "execute_result"
    }
   ],
   "source": [
    "df.annual_inc.describe()"
   ]
  },
  {
   "cell_type": "markdown",
   "metadata": {},
   "source": [
    "Income is highly skewed, with very few, very high values, and most of the borrowers below \\$100,000"
   ]
  },
  {
   "cell_type": "code",
   "execution_count": 481,
   "metadata": {},
   "outputs": [
    {
     "data": {
      "text/plain": [
       "<matplotlib.axes._subplots.AxesSubplot at 0x1a16b8e470>"
      ]
     },
     "execution_count": 481,
     "metadata": {},
     "output_type": "execute_result"
    },
    {
     "data": {
      "image/png": "[encoded data removed]",
      "text/plain": [
       "<Figure size 432x288 with 1 Axes>"
      ]
     },
     "metadata": {},
     "output_type": "display_data"
    }
   ],
   "source": [
    "sns.distplot(df.annual_inc)"
   ]
  },
  {
   "cell_type": "markdown",
   "metadata": {},
   "source": [
    "We transform the income to log(income) to reduce the skewness"
   ]
  },
  {
   "cell_type": "code",
   "execution_count": 482,
   "metadata": {},
   "outputs": [],
   "source": [
    "df['log_annual_inc'] = np.log(df.annual_inc)"
   ]
  },
  {
   "cell_type": "code",
   "execution_count": 483,
   "metadata": {
    "scrolled": true
   },
   "outputs": [
    {
     "data": {
      "text/plain": [
       "<matplotlib.axes._subplots.AxesSubplot at 0x1a18abfa20>"
      ]
     },
     "execution_count": 483,
     "metadata": {},
     "output_type": "execute_result"
    },
    {
     "data": {
      "image/png": "[encoded data removed]",
      "text/plain": [
       "<Figure size 432x288 with 1 Axes>"
      ]
     },
     "metadata": {},
     "output_type": "display_data"
    }
   ],
   "source": [
    "sns.distplot(df.log_annual_inc)"
   ]
  },
  {
   "cell_type": "markdown",
   "metadata": {},
   "source": [
    "Loans that were paid were taken by borrowers with higher income"
   ]
  },
  {
   "cell_type": "code",
   "execution_count": 484,
   "metadata": {},
   "outputs": [
    {
     "data": {
      "image/png": "[encoded data removed]",
      "text/plain": [
       "<Figure size 1584x432 with 1 Axes>"
      ]
     },
     "metadata": {},
     "output_type": "display_data"
    }
   ],
   "source": [
    "fig = plt.figure(figsize=(22,6))\n",
    "sns.kdeplot(df.loc[df['default'] == 1, 'log_annual_inc'], label = 'Default')\n",
    "sns.kdeplot(df.loc[df['default'] == 0, 'log_annual_inc'], label = 'Fully Paid')\n",
    "plt.xlabel('Log annual income ($)',fontsize=15)\n",
    "plt.ylabel('Density',fontsize=15)\n",
    "plt.title('Distribution of log annual income',fontsize=20);"
   ]
  },
  {
   "cell_type": "markdown",
   "metadata": {},
   "source": [
    "We also create categorical variables by binning the original variable"
   ]
  },
  {
   "cell_type": "code",
   "execution_count": 485,
   "metadata": {},
   "outputs": [
    {
     "data": {
      "text/plain": [
       "40-60k    21683\n",
       "80k+      19953\n",
       "60-80k    15978\n",
       "20-40k    15595\n",
       "0-20k      1795\n",
       "Name: annual_inc_group, dtype: int64"
      ]
     },
     "execution_count": 485,
     "metadata": {},
     "output_type": "execute_result"
    }
   ],
   "source": [
    "labels = ['0-20k', '20-40k', '40-60k', '60-80k', '80k+']\n",
    "df['annual_inc_group'] = pd.cut(df.annual_inc, \n",
    "                               [0, 20000, 40000, 60000, 80000, 10000000], right=False, labels=labels)\n",
    "df['annual_inc_group'].value_counts()"
   ]
  },
  {
   "cell_type": "markdown",
   "metadata": {},
   "source": [
    "### Revolving balance"
   ]
  },
  {
   "cell_type": "code",
   "execution_count": 486,
   "metadata": {
    "scrolled": true
   },
   "outputs": [
    {
     "data": {
      "text/plain": [
       "count    7.500400e+04\n",
       "mean     1.402502e+04\n",
       "std      1.853212e+04\n",
       "min      0.000000e+00\n",
       "25%      5.028000e+03\n",
       "50%      9.982500e+03\n",
       "75%      1.742400e+04\n",
       "max      1.207359e+06\n",
       "Name: revol_bal, dtype: float64"
      ]
     },
     "execution_count": 486,
     "metadata": {},
     "output_type": "execute_result"
    }
   ],
   "source": [
    "df.revol_bal.describe()"
   ]
  },
  {
   "cell_type": "markdown",
   "metadata": {},
   "source": [
    "Revolving balance is highly skewed, with very few, very high values, and most of the borrowers below \\$10,000"
   ]
  },
  {
   "cell_type": "code",
   "execution_count": 487,
   "metadata": {},
   "outputs": [
    {
     "data": {
      "text/plain": [
       "<matplotlib.axes._subplots.AxesSubplot at 0x1a1cebef98>"
      ]
     },
     "execution_count": 487,
     "metadata": {},
     "output_type": "execute_result"
    },
    {
     "data": {
      "image/png": "[encoded data removed]",
      "text/plain": [
       "<Figure size 432x288 with 1 Axes>"
      ]
     },
     "metadata": {},
     "output_type": "display_data"
    }
   ],
   "source": [
    "sns.distplot(df.revol_bal)"
   ]
  },
  {
   "cell_type": "markdown",
   "metadata": {},
   "source": [
    "We transform the revolving balanace to log(revolving balance) to reduce the skewness. Some borrowes have zero revolving balance so we shift the distribution by 1"
   ]
  },
  {
   "cell_type": "code",
   "execution_count": 488,
   "metadata": {},
   "outputs": [],
   "source": [
    "df['log_revol_bal'] = np.log(df.revol_bal+1)\n",
    "#df['no_revol_bal'] = 0\n",
    "#df.loc[df['revol_bal'] == 0, 'no_revol_bal'] = 1"
   ]
  },
  {
   "cell_type": "code",
   "execution_count": 489,
   "metadata": {
    "scrolled": true
   },
   "outputs": [
    {
     "data": {
      "text/plain": [
       "<matplotlib.axes._subplots.AxesSubplot at 0x1a1cec6eb8>"
      ]
     },
     "execution_count": 489,
     "metadata": {},
     "output_type": "execute_result"
    },
    {
     "data": {
      "image/png": "[encoded data removed]",
      "text/plain": [
       "<Figure size 432x288 with 1 Axes>"
      ]
     },
     "metadata": {},
     "output_type": "display_data"
    }
   ],
   "source": [
    "sns.distplot(df.log_revol_bal)"
   ]
  },
  {
   "cell_type": "markdown",
   "metadata": {},
   "source": [
    "Loans that were paid were taken by borrowers with higher revolving balance"
   ]
  },
  {
   "cell_type": "code",
   "execution_count": 490,
   "metadata": {},
   "outputs": [
    {
     "data": {
      "image/png": "[encoded data removed]",
      "text/plain": [
       "<Figure size 1584x432 with 1 Axes>"
      ]
     },
     "metadata": {},
     "output_type": "display_data"
    }
   ],
   "source": [
    "fig = plt.figure(figsize=(22,6))\n",
    "sns.kdeplot(df.loc[df['default'] == 1, 'log_annual_inc'], label = 'Default')\n",
    "sns.kdeplot(df.loc[df['default'] == 0, 'log_annual_inc'], label = 'Fully Paid')\n",
    "plt.xlabel('Log annual income ($)',fontsize=15)\n",
    "plt.ylabel('Density',fontsize=15)\n",
    "plt.title('Distribution of log annual income',fontsize=20);"
   ]
  },
  {
   "cell_type": "markdown",
   "metadata": {},
   "source": [
    "We also create categorical variables by binning the original variable"
   ]
  },
  {
   "cell_type": "code",
   "execution_count": 491,
   "metadata": {},
   "outputs": [
    {
     "data": {
      "text/plain": [
       "5-10k     18918\n",
       "0-5k      17551\n",
       "20k+      14914\n",
       "10-15k    14022\n",
       "15-20k     8506\n",
       "0          1093\n",
       "Name: revol_bal_group, dtype: int64"
      ]
     },
     "execution_count": 491,
     "metadata": {},
     "output_type": "execute_result"
    }
   ],
   "source": [
    "labels = ['0', '0-5k', '5-10k', '10-15k', '15-20k', '20k+']\n",
    "df['revol_bal_group'] = pd.cut(df.revol_bal, \n",
    "                               [0, 1, 5000, 10000, 15000, 20000, 10000000], right=False, labels=labels)\n",
    "df['revol_bal_group'].value_counts()"
   ]
  },
  {
   "cell_type": "markdown",
   "metadata": {},
   "source": [
    "### Loan amount "
   ]
  },
  {
   "cell_type": "markdown",
   "metadata": {},
   "source": [
    "Most loans are within \\$5,000 and \\$15,000"
   ]
  },
  {
   "cell_type": "code",
   "execution_count": 492,
   "metadata": {
    "scrolled": true
   },
   "outputs": [
    {
     "data": {
      "text/plain": [
       "count    75004.000000\n",
       "mean     10778.257826\n",
       "std       6851.673213\n",
       "min        500.000000\n",
       "25%       6000.000000\n",
       "50%       9950.000000\n",
       "75%      14400.000000\n",
       "max      35000.000000\n",
       "Name: loan_amnt, dtype: float64"
      ]
     },
     "execution_count": 492,
     "metadata": {},
     "output_type": "execute_result"
    }
   ],
   "source": [
    "df.loan_amnt.describe()"
   ]
  },
  {
   "cell_type": "code",
   "execution_count": 493,
   "metadata": {},
   "outputs": [
    {
     "data": {
      "text/plain": [
       "<matplotlib.axes._subplots.AxesSubplot at 0x1a154a6320>"
      ]
     },
     "execution_count": 493,
     "metadata": {},
     "output_type": "execute_result"
    },
    {
     "data": {
      "image/png": "[encoded data removed]",
      "text/plain": [
       "<Figure size 432x288 with 1 Axes>"
      ]
     },
     "metadata": {},
     "output_type": "display_data"
    }
   ],
   "source": [
    "sns.distplot(df.loan_amnt)"
   ]
  },
  {
   "cell_type": "markdown",
   "metadata": {},
   "source": [
    "Loans that were paid were taken for slightly higher amounts"
   ]
  },
  {
   "cell_type": "code",
   "execution_count": 494,
   "metadata": {},
   "outputs": [
    {
     "data": {
      "image/png": "[encoded data removed]",
      "text/plain": [
       "<Figure size 1584x432 with 1 Axes>"
      ]
     },
     "metadata": {},
     "output_type": "display_data"
    }
   ],
   "source": [
    "fig = plt.figure(figsize=(22,6))\n",
    "sns.kdeplot(df.loc[df['default'] == 1, 'loan_amnt'], label = 'Default')\n",
    "sns.kdeplot(df.loc[df['default'] == 0, 'loan_amnt'], label = 'Fully Paid')\n",
    "plt.xlabel('Loan amount ($)',fontsize=15)\n",
    "plt.ylabel('Density',fontsize=15)\n",
    "plt.title('Distribution of loan amount',fontsize=20);"
   ]
  },
  {
   "cell_type": "markdown",
   "metadata": {},
   "source": [
    "We also create categorical variables by binning the original variable"
   ]
  },
  {
   "cell_type": "code",
   "execution_count": 495,
   "metadata": {},
   "outputs": [
    {
     "data": {
      "text/plain": [
       "5-10k     24407\n",
       "10-15k    19479\n",
       "0-5k      13165\n",
       "20k+       9218\n",
       "15-20k     8735\n",
       "Name: loan_amnt_group, dtype: int64"
      ]
     },
     "execution_count": 495,
     "metadata": {},
     "output_type": "execute_result"
    }
   ],
   "source": [
    "labels = ['0-5k', '5-10k', '10-15k', '15-20k', '20k+']\n",
    "df['loan_amnt_group'] = pd.cut(df.loan_amnt, \n",
    "                               [0, 5000, 10000, 15000, 20000, 100000], right=False, labels=labels)\n",
    "df['loan_amnt_group'].value_counts()"
   ]
  },
  {
   "cell_type": "markdown",
   "metadata": {},
   "source": [
    "### Interest rate"
   ]
  },
  {
   "cell_type": "markdown",
   "metadata": {},
   "source": [
    "Most loans have interest rate between 7% and 15%"
   ]
  },
  {
   "cell_type": "code",
   "execution_count": 496,
   "metadata": {
    "scrolled": true
   },
   "outputs": [
    {
     "data": {
      "text/plain": [
       "count    75004.000000\n",
       "mean        12.037718\n",
       "std          3.648870\n",
       "min          5.420000\n",
       "25%          8.900000\n",
       "50%         12.120000\n",
       "75%         14.330000\n",
       "max         24.890000\n",
       "Name: int_rate, dtype: float64"
      ]
     },
     "execution_count": 496,
     "metadata": {},
     "output_type": "execute_result"
    }
   ],
   "source": [
    "df.int_rate.describe()"
   ]
  },
  {
   "cell_type": "code",
   "execution_count": 497,
   "metadata": {},
   "outputs": [
    {
     "data": {
      "text/plain": [
       "<matplotlib.axes._subplots.AxesSubplot at 0x111c87860>"
      ]
     },
     "execution_count": 497,
     "metadata": {},
     "output_type": "execute_result"
    },
    {
     "data": {
      "image/png": "[encoded data removed]",
      "text/plain": [
       "<Figure size 432x288 with 1 Axes>"
      ]
     },
     "metadata": {},
     "output_type": "display_data"
    }
   ],
   "source": [
    "sns.distplot(df.int_rate)"
   ]
  },
  {
   "cell_type": "markdown",
   "metadata": {},
   "source": [
    "Loans that defaulted had higher interest rate. The interest burden made the repayment more difficult and loans with higher interest rates were likely to be considered more risky."
   ]
  },
  {
   "cell_type": "code",
   "execution_count": 498,
   "metadata": {},
   "outputs": [
    {
     "data": {
      "image/png": "[encoded data removed]",
      "text/plain": [
       "<Figure size 1584x432 with 1 Axes>"
      ]
     },
     "metadata": {},
     "output_type": "display_data"
    }
   ],
   "source": [
    "fig = plt.figure(figsize=(22,6))\n",
    "sns.kdeplot(df.loc[df['default'] == 1, 'int_rate'], label = 'Default')\n",
    "sns.kdeplot(df.loc[df['default'] == 0, 'int_rate'], label = 'Fully Paid')\n",
    "plt.xlabel('Interest rate (%)',fontsize=15)\n",
    "plt.ylabel('Density',fontsize=15)\n",
    "plt.title('Distribution of interest rate',fontsize=20);"
   ]
  },
  {
   "cell_type": "markdown",
   "metadata": {},
   "source": [
    "We also create categorical variables by binning the original variable"
   ]
  },
  {
   "cell_type": "code",
   "execution_count": 499,
   "metadata": {
    "scrolled": true
   },
   "outputs": [
    {
     "data": {
      "text/plain": [
       "13-15    16026\n",
       "5-8      15926\n",
       "20+      15914\n",
       "11-13    13794\n",
       "8-11     13344\n",
       "Name: int_rate_group, dtype: int64"
      ]
     },
     "execution_count": 499,
     "metadata": {},
     "output_type": "execute_result"
    }
   ],
   "source": [
    "labels = ['5-8', '8-11', '11-13', '13-15', '20+']\n",
    "df['int_rate_group'] = pd.cut(df.int_rate, \n",
    "                               [5, 8, 11, 13, 15, 100], right=False, labels=labels)\n",
    "df['int_rate_group'].value_counts()"
   ]
  },
  {
   "cell_type": "markdown",
   "metadata": {},
   "source": [
    "### DTI"
   ]
  },
  {
   "cell_type": "markdown",
   "metadata": {},
   "source": [
    "Most loans have DTI between 5% and 25%"
   ]
  },
  {
   "cell_type": "code",
   "execution_count": 500,
   "metadata": {
    "scrolled": true
   },
   "outputs": [
    {
     "data": {
      "text/plain": [
       "count    75004.000000\n",
       "mean        15.013122\n",
       "std          7.447380\n",
       "min          0.000000\n",
       "25%          9.380000\n",
       "50%         14.850000\n",
       "75%         20.392500\n",
       "max         34.990000\n",
       "Name: dti, dtype: float64"
      ]
     },
     "execution_count": 500,
     "metadata": {},
     "output_type": "execute_result"
    }
   ],
   "source": [
    "df.dti.describe()"
   ]
  },
  {
   "cell_type": "markdown",
   "metadata": {},
   "source": [
    "Distribution of DTI looks fairly normal"
   ]
  },
  {
   "cell_type": "code",
   "execution_count": 501,
   "metadata": {},
   "outputs": [
    {
     "data": {
      "text/plain": [
       "<matplotlib.axes._subplots.AxesSubplot at 0x1a154a78d0>"
      ]
     },
     "execution_count": 501,
     "metadata": {},
     "output_type": "execute_result"
    },
    {
     "data": {
      "image/png": "[encoded data removed]",
      "text/plain": [
       "<Figure size 432x288 with 1 Axes>"
      ]
     },
     "metadata": {},
     "output_type": "display_data"
    }
   ],
   "source": [
    "sns.distplot(df.dti)"
   ]
  },
  {
   "cell_type": "markdown",
   "metadata": {},
   "source": [
    "Loans that defaulted had higher DTI. The higher share of interest made the repayment more difficult."
   ]
  },
  {
   "cell_type": "code",
   "execution_count": 502,
   "metadata": {},
   "outputs": [
    {
     "data": {
      "image/png": "[encoded data removed]",
      "text/plain": [
       "<Figure size 1584x432 with 1 Axes>"
      ]
     },
     "metadata": {},
     "output_type": "display_data"
    }
   ],
   "source": [
    "fig = plt.figure(figsize=(22,6))\n",
    "sns.kdeplot(df.loc[df['default'] == 1, 'dti'], label = 'Default')\n",
    "sns.kdeplot(df.loc[df['default'] == 0, 'dti'], label = 'Fully Paid')\n",
    "plt.xlabel('DTI (%)',fontsize=15)\n",
    "plt.ylabel('Density',fontsize=15)\n",
    "plt.title('Distribution of DTI',fontsize=20);"
   ]
  },
  {
   "cell_type": "markdown",
   "metadata": {},
   "source": [
    "We also create categorical variables by binning the original variable"
   ]
  },
  {
   "cell_type": "code",
   "execution_count": 503,
   "metadata": {
    "scrolled": true
   },
   "outputs": [
    {
     "data": {
      "text/plain": [
       "10-15    17366\n",
       "15-20    16973\n",
       "5-10     13464\n",
       "20-25    13385\n",
       "0-5       7197\n",
       "25+       6619\n",
       "Name: dti_group, dtype: int64"
      ]
     },
     "execution_count": 503,
     "metadata": {},
     "output_type": "execute_result"
    }
   ],
   "source": [
    "labels = ['0-5', '5-10', '10-15', '15-20', '20-25', '25+']\n",
    "df['dti_group'] = pd.cut(df.dti, \n",
    "                               [0, 5, 10, 15, 20, 25, 100], right=False, labels=labels)\n",
    "df['dti_group'].value_counts()"
   ]
  },
  {
   "cell_type": "markdown",
   "metadata": {},
   "source": [
    "### Categorical variables encoding"
   ]
  },
  {
   "cell_type": "markdown",
   "metadata": {},
   "source": [
    "Grade and issue_month have more than 2 possible values. They will need to be one-hot encoded before we can use them in the modeling"
   ]
  },
  {
   "cell_type": "code",
   "execution_count": 504,
   "metadata": {
    "scrolled": false
   },
   "outputs": [
    {
     "data": {
      "text/plain": [
       "grade                7\n",
       "issue_month         12\n",
       "annual_inc_group     5\n",
       "revol_bal_group      6\n",
       "loan_amnt_group      5\n",
       "int_rate_group       5\n",
       "dti_group            6\n",
       "dtype: int64"
      ]
     },
     "execution_count": 504,
     "metadata": {},
     "output_type": "execute_result"
    }
   ],
   "source": [
    "df.select_dtypes(['category', 'object']).apply(pd.Series.nunique, axis = 0)"
   ]
  },
  {
   "cell_type": "markdown",
   "metadata": {},
   "source": [
    "We create dummy variables for grade and issue month"
   ]
  },
  {
   "cell_type": "code",
   "execution_count": 505,
   "metadata": {},
   "outputs": [],
   "source": [
    "df = pd.get_dummies(df)"
   ]
  },
  {
   "cell_type": "code",
   "execution_count": 506,
   "metadata": {},
   "outputs": [],
   "source": [
    "df_dummies = df.copy()\n",
    "#df = df_dummies"
   ]
  },
  {
   "cell_type": "markdown",
   "metadata": {},
   "source": [
    "## Feature selection "
   ]
  },
  {
   "cell_type": "markdown",
   "metadata": {},
   "source": [
    "Dropping variables which are not known at the time of application:\n",
    "- funded_amnt: the total amount committed to that loan at that point in time is not known at the time of application\n",
    "- total_pymnt: payments received to date for total amount funded are only known after issuing the loan"
   ]
  },
  {
   "cell_type": "code",
   "execution_count": 507,
   "metadata": {},
   "outputs": [],
   "source": [
    "df.drop(['total_pymnt', 'funded_amnt'],axis=1,inplace=True)"
   ]
  },
  {
   "cell_type": "markdown",
   "metadata": {},
   "source": [
    "Dropping variables which cannot be observed historically\n",
    "- issue_d: we cannot predict the time impact for future observations (years). We can however use monthly seasonality effects\n",
    "- int_rate: it is not completely clear if interest rate can be observed at the time of origination (assuming yes). It will have impact on borrowers ability to repay but it is also an outcome of the credit decision and may only be know if the investors have shown interest\n",
    "- grade: similar to interest rate, it's not fully clear if grade is available upon origination (assuming yes)"
   ]
  },
  {
   "cell_type": "code",
   "execution_count": 508,
   "metadata": {},
   "outputs": [],
   "source": [
    "df.drop(['issue_d', 'issue_year'],axis=1,inplace=True)"
   ]
  },
  {
   "cell_type": "markdown",
   "metadata": {},
   "source": [
    "Dropping extra dummy variables"
   ]
  },
  {
   "cell_type": "code",
   "execution_count": 509,
   "metadata": {},
   "outputs": [],
   "source": [
    "df.drop(['loan_amnt_group_0-5k', 'int_rate_group_5-8', 'grade_A', \n",
    "         'annual_inc_group_0-20k', 'dti_group_0-5', \n",
    "         'revol_bal_group_0', 'issue_month_Jan'],axis=1,inplace=True)"
   ]
  },
  {
   "cell_type": "code",
   "execution_count": 510,
   "metadata": {
    "scrolled": true
   },
   "outputs": [
    {
     "data": {
      "text/plain": [
       "log_annual_inc            -0.079541\n",
       "annual_inc_group_80k+     -0.055434\n",
       "grade_B                   -0.050091\n",
       "int_rate_group_8-11       -0.044964\n",
       "annual_inc                -0.039977\n",
       "dti_group_5-10            -0.024916\n",
       "annual_inc_group_60-80k   -0.023839\n",
       "loan_amnt                 -0.023385\n",
       "log_revol_bal             -0.023043\n",
       "loan_amnt_group_10-15k    -0.018957\n",
       "dti_group_10-15           -0.018561\n",
       "loan_amnt_group_20k+      -0.013838\n",
       "revol_bal_group_10-15k    -0.012313\n",
       "issue_month_Sep           -0.008896\n",
       "issue_month_Aug           -0.007836\n",
       "issue_month_Nov           -0.007189\n",
       "revol_bal_group_15-20k    -0.006949\n",
       "issue_month_Dec           -0.005076\n",
       "issue_month_Oct           -0.004797\n",
       "revol_bal_group_20k+      -0.002299\n",
       "int_rate_group_11-13      -0.000570\n",
       "revol_bal_group_5-10k      0.000112\n",
       "issue_month_May            0.000567\n",
       "issue_month_Jul            0.001503\n",
       "loan_amnt_group_5-10k      0.001961\n",
       "issue_month_Apr            0.002659\n",
       "issue_month_Jun            0.004651\n",
       "dti_group_15-20            0.006189\n",
       "loan_amnt_group_15-20k     0.006723\n",
       "issue_month_Feb            0.007871\n",
       "revol_bal_group_0-5k       0.010833\n",
       "issue_month_Mar            0.011143\n",
       "annual_inc_group_40-60k    0.013232\n",
       "dti_group_20-25            0.024565\n",
       "dti_group_25+              0.026107\n",
       "dti                        0.040489\n",
       "revol_bal                  0.051016\n",
       "annual_inc_group_20-40k    0.053550\n",
       "int_rate_group_13-15       0.055089\n",
       "grade_C                    0.060731\n",
       "grade_F                    0.087679\n",
       "grade_G                    0.097689\n",
       "grade_D                    0.102291\n",
       "grade_E                    0.103084\n",
       "int_rate_group_20+         0.120544\n",
       "int_rate                   0.172831\n",
       "default                    1.000000\n",
       "Name: default, dtype: float64"
      ]
     },
     "execution_count": 510,
     "metadata": {},
     "output_type": "execute_result"
    }
   ],
   "source": [
    "corr = df.corr()['default'].sort_values()\n",
    "corr"
   ]
  },
  {
   "cell_type": "code",
   "execution_count": 511,
   "metadata": {},
   "outputs": [],
   "source": [
    "df_features = df\n",
    "#df = df_features"
   ]
  },
  {
   "cell_type": "markdown",
   "metadata": {},
   "source": [
    "## Train-test split "
   ]
  },
  {
   "cell_type": "markdown",
   "metadata": {},
   "source": [
    "Splitting the data into train and test sets (80/20 proportion)"
   ]
  },
  {
   "cell_type": "code",
   "execution_count": 512,
   "metadata": {},
   "outputs": [],
   "source": [
    "X_train, X_test, y_train, y_test = train_test_split(df.drop('default',axis=1),df['default'],test_size=0.2,random_state=17)"
   ]
  },
  {
   "cell_type": "code",
   "execution_count": 513,
   "metadata": {},
   "outputs": [
    {
     "name": "stdout",
     "output_type": "stream",
     "text": [
      "(60003, 46) (15001, 46) (60003,) (15001,)\n"
     ]
    }
   ],
   "source": [
    "print(X_train.shape, X_test.shape, y_train.shape, y_test.shape)"
   ]
  },
  {
   "cell_type": "markdown",
   "metadata": {},
   "source": [
    "Standardizing the numerical features"
   ]
  },
  {
   "cell_type": "code",
   "execution_count": 514,
   "metadata": {
    "scrolled": false
   },
   "outputs": [],
   "source": [
    "sc = StandardScaler()\n",
    "X_train = sc.fit_transform(X_train)\n",
    "X_test=sc.transform(X_test)"
   ]
  },
  {
   "cell_type": "markdown",
   "metadata": {},
   "source": [
    "Oversampling the training set using SMOTE. Default rate in training set at 50%, in the test set kept at 15%"
   ]
  },
  {
   "cell_type": "code",
   "execution_count": 515,
   "metadata": {},
   "outputs": [],
   "source": [
    "sm = SMOTE(random_state=17, ratio = 1.0)\n",
    "X_train, y_train = sm.fit_sample(X_train, y_train)"
   ]
  },
  {
   "cell_type": "code",
   "execution_count": 516,
   "metadata": {},
   "outputs": [
    {
     "name": "stdout",
     "output_type": "stream",
     "text": [
      "0.15528505146392194 0.5 0.15392307179521364\n"
     ]
    }
   ],
   "source": [
    "print(df.default.mean(), y_train.mean(), y_test.mean())"
   ]
  },
  {
   "cell_type": "markdown",
   "metadata": {},
   "source": [
    "## Logistic regression model"
   ]
  },
  {
   "cell_type": "markdown",
   "metadata": {},
   "source": [
    "### Model training"
   ]
  },
  {
   "cell_type": "code",
   "execution_count": 517,
   "metadata": {
    "scrolled": true
   },
   "outputs": [
    {
     "data": {
      "text/plain": [
       "LogisticRegression(C=1, class_weight=None, dual=False, fit_intercept=True,\n",
       "          intercept_scaling=1, max_iter=100, multi_class='warn',\n",
       "          n_jobs=None, penalty='l2', random_state=17, solver='warn',\n",
       "          tol=0.0001, verbose=0, warm_start=False)"
      ]
     },
     "execution_count": 517,
     "metadata": {},
     "output_type": "execute_result"
    }
   ],
   "source": [
    "log_reg = LogisticRegression(C = 1,random_state=17)\n",
    "log_reg.fit(X_train, y_train)"
   ]
  },
  {
   "cell_type": "code",
   "execution_count": 518,
   "metadata": {},
   "outputs": [],
   "source": [
    "y_pred = log_reg.predict_proba(X_test)[:, 1]"
   ]
  },
  {
   "cell_type": "markdown",
   "metadata": {},
   "source": [
    "#### Coefficient estimates"
   ]
  },
  {
   "cell_type": "code",
   "execution_count": 519,
   "metadata": {},
   "outputs": [
    {
     "data": {
      "text/plain": [
       "[('loan_amnt', -0.016562694080661557),\n",
       " ('int_rate', -0.4358108392038945),\n",
       " ('annual_inc', 0.009123365293456573),\n",
       " ('dti', 0.1012744370734465),\n",
       " ('revol_bal', 0.31842806547907887),\n",
       " ('log_annual_inc', -0.32876271797330275),\n",
       " ('log_revol_bal', -0.13867976911740104),\n",
       " ('grade_B', 0.24557681020212083),\n",
       " ('grade_C', 0.5002928860435619),\n",
       " ('grade_D', 0.5863051240842234),\n",
       " ('grade_E', 0.41976794015473184),\n",
       " ('grade_F', 0.2618412205618547),\n",
       " ('grade_G', 0.24703649391964363),\n",
       " ('issue_month_Apr', -0.07129339771121104),\n",
       " ('issue_month_Aug', -0.09186775418758393),\n",
       " ('issue_month_Dec', -0.07697853870218084),\n",
       " ('issue_month_Feb', -0.05181779013443937),\n",
       " ('issue_month_Jul', -0.07047520289498357),\n",
       " ('issue_month_Jun', -0.04788397863637835),\n",
       " ('issue_month_Mar', -0.06607377863787431),\n",
       " ('issue_month_May', -0.042191294294194916),\n",
       " ('issue_month_Nov', -0.09301470900649711),\n",
       " ('issue_month_Oct', -0.08665698051887055),\n",
       " ('issue_month_Sep', -0.08722515093377906),\n",
       " ('annual_inc_group_20-40k', 0.11946155830974409),\n",
       " ('annual_inc_group_40-60k', 0.1484697083427733),\n",
       " ('annual_inc_group_60-80k', 0.10748534531923662),\n",
       " ('annual_inc_group_80k+', 0.12752328568399895),\n",
       " ('revol_bal_group_0-5k', 0.09142622676628795),\n",
       " ('revol_bal_group_5-10k', 0.11129005040875882),\n",
       " ('revol_bal_group_10-15k', 0.04562525549880861),\n",
       " ('revol_bal_group_15-20k', 0.03412800222205675),\n",
       " ('revol_bal_group_20k+', -0.008709929947347393),\n",
       " ('loan_amnt_group_5-10k', 0.0027990317627255624),\n",
       " ('loan_amnt_group_10-15k', -0.0243396925011395),\n",
       " ('loan_amnt_group_15-20k', 0.018244667055481827),\n",
       " ('loan_amnt_group_20k+', -0.0036780810418854254),\n",
       " ('int_rate_group_8-11', 0.26890926743366295),\n",
       " ('int_rate_group_11-13', 0.3630900543488558),\n",
       " ('int_rate_group_13-15', 0.4385611598553876),\n",
       " ('int_rate_group_20+', 0.42863205754812067),\n",
       " ('dti_group_5-10', -0.059782548797337735),\n",
       " ('dti_group_10-15', -0.07007948640953815),\n",
       " ('dti_group_15-20', -0.07563825731982453),\n",
       " ('dti_group_20-25', -0.08083882832785486),\n",
       " ('dti_group_25+', -0.05405616321419619)]"
      ]
     },
     "execution_count": 519,
     "metadata": {},
     "output_type": "execute_result"
    }
   ],
   "source": [
    "feature_cols = df.drop('default',axis=1).columns.values\n",
    "list(zip(feature_cols, log_reg.coef_[0]))"
   ]
  },
  {
   "cell_type": "markdown",
   "metadata": {},
   "source": [
    "###  Model performance"
   ]
  },
  {
   "cell_type": "markdown",
   "metadata": {},
   "source": [
    "#### Accuracy score"
   ]
  },
  {
   "cell_type": "code",
   "execution_count": 520,
   "metadata": {},
   "outputs": [
    {
     "name": "stdout",
     "output_type": "stream",
     "text": [
      "0.6318912072528499\n"
     ]
    }
   ],
   "source": [
    "print(accuracy_score(y_test, log_reg.predict(X_test)))"
   ]
  },
  {
   "cell_type": "markdown",
   "metadata": {},
   "source": [
    "#### AUC "
   ]
  },
  {
   "cell_type": "code",
   "execution_count": 521,
   "metadata": {
    "scrolled": true
   },
   "outputs": [
    {
     "name": "stdout",
     "output_type": "stream",
     "text": [
      "0.682362463875786\n"
     ]
    }
   ],
   "source": [
    "auc = roc_auc_score(y_test, y_pred)\n",
    "print(auc)"
   ]
  },
  {
   "cell_type": "markdown",
   "metadata": {},
   "source": [
    "AUC score of 68% is relatively low but better than random (50%)"
   ]
  },
  {
   "cell_type": "markdown",
   "metadata": {},
   "source": [
    "#### ROC curve"
   ]
  },
  {
   "cell_type": "code",
   "execution_count": 522,
   "metadata": {
    "scrolled": true
   },
   "outputs": [
    {
     "data": {
      "text/plain": [
       "<matplotlib.legend.Legend at 0x1a1bcd3278>"
      ]
     },
     "execution_count": 522,
     "metadata": {},
     "output_type": "execute_result"
    },
    {
     "data": {
      "image/png": "[encoded data removed]",
      "text/plain": [
       "<Figure size 432x288 with 1 Axes>"
      ]
     },
     "metadata": {},
     "output_type": "display_data"
    }
   ],
   "source": [
    "fpr, tpr, _ = roc_curve(y_test, y_pred)\n",
    "plt.plot(fpr, tpr, label='ROC Curve (area = %0.2f)' % auc)\n",
    "plt.title('Receiver operating characteristic')\n",
    "plt.xlabel('False Positive Rate')\n",
    "plt.ylabel('True Positive Rate')\n",
    "plt.legend(loc=\"lower right\")"
   ]
  },
  {
   "cell_type": "markdown",
   "metadata": {},
   "source": [
    "Model achieves similar performance across thresholds"
   ]
  },
  {
   "cell_type": "markdown",
   "metadata": {},
   "source": [
    "#### Classification report"
   ]
  },
  {
   "cell_type": "code",
   "execution_count": 523,
   "metadata": {
    "scrolled": false
   },
   "outputs": [
    {
     "name": "stdout",
     "output_type": "stream",
     "text": [
      "              precision    recall  f1-score   support\n",
      "\n",
      "           0       0.90      0.64      0.75     12692\n",
      "           1       0.23      0.61      0.34      2309\n",
      "\n",
      "   micro avg       0.63      0.63      0.63     15001\n",
      "   macro avg       0.57      0.62      0.54     15001\n",
      "weighted avg       0.80      0.63      0.68     15001\n",
      "\n"
     ]
    }
   ],
   "source": [
    "print(classification_report(y_test, log_reg.predict(X_test)))"
   ]
  },
  {
   "cell_type": "markdown",
   "metadata": {},
   "source": [
    "Model has relatively low precision for defaults - only 23% loans identified as too risky turn out to be good. However the interest from a good loan (5-25%) is signigicantly lower than loss from a bad loan (up to 100%)"
   ]
  },
  {
   "cell_type": "markdown",
   "metadata": {},
   "source": [
    "\n",
    "\n",
    "#### Confusion matrix"
   ]
  },
  {
   "cell_type": "code",
   "execution_count": 524,
   "metadata": {
    "scrolled": false
   },
   "outputs": [
    {
     "name": "stdout",
     "output_type": "stream",
     "text": [
      "[[8069 4623]\n",
      " [ 899 1410]]\n"
     ]
    }
   ],
   "source": [
    "print(confusion_matrix(y_test, log_reg.predict(X_test)))"
   ]
  },
  {
   "cell_type": "markdown",
   "metadata": {},
   "source": [
    "#### Coefficient estimates"
   ]
  },
  {
   "cell_type": "code",
   "execution_count": 462,
   "metadata": {},
   "outputs": [
    {
     "data": {
      "text/plain": [
       "[('loan_amnt', -0.01656272055266706),\n",
       " ('int_rate', -0.4358107133831933),\n",
       " ('annual_inc', 0.009123300480228132),\n",
       " ('dti', 0.10127465660371436),\n",
       " ('revol_bal', 0.3184280709615705),\n",
       " ('log_annual_inc', -0.32876285652260767),\n",
       " ('log_revol_bal', -0.13867969812031927),\n",
       " ('grade_B', 0.24557676069450263),\n",
       " ('grade_C', 0.5002929690088491),\n",
       " ('grade_D', 0.5863051934604866),\n",
       " ('grade_E', 0.4197679408450527),\n",
       " ('grade_F', 0.2618412260384649),\n",
       " ('grade_G', 0.2470364970701453),\n",
       " ('issue_month_Apr', -0.0712934182559858),\n",
       " ('issue_month_Aug', -0.09186774012757805),\n",
       " ('issue_month_Dec', -0.07697853306813604),\n",
       " ('issue_month_Feb', -0.05181781271066147),\n",
       " ('issue_month_Jul', -0.07047518873440144),\n",
       " ('issue_month_Jun', -0.04788398294683956),\n",
       " ('issue_month_Mar', -0.06607380411378455),\n",
       " ('issue_month_May', -0.04219131816282244),\n",
       " ('issue_month_Nov', -0.09301469080520924),\n",
       " ('issue_month_Oct', -0.08665696314414205),\n",
       " ('issue_month_Sep', -0.08722512790502121),\n",
       " ('annual_inc_group_20-40k', 0.11946164419136594),\n",
       " ('annual_inc_group_40-60k', 0.14846979223607745),\n",
       " ('annual_inc_group_60-80k', 0.10748534327917654),\n",
       " ('annual_inc_group_80k+', 0.127523186309919),\n",
       " ('revol_bal_group_0-5k', 0.09142614617380689),\n",
       " ('revol_bal_group_5-10k', 0.11129007466617272),\n",
       " ('revol_bal_group_10-15k', 0.045625305834002705),\n",
       " ('revol_bal_group_15-20k', 0.03412803194998448),\n",
       " ('revol_bal_group_20k+', -0.008709935392961204),\n",
       " ('loan_amnt_group_5-10k', 0.002799038551067172),\n",
       " ('loan_amnt_group_10-15k', -0.02433965707386075),\n",
       " ('loan_amnt_group_15-20k', 0.01824468032125662),\n",
       " ('loan_amnt_group_20k+', -0.0036781381814449702),\n",
       " ('int_rate_group_8-11', 0.26890918029866473),\n",
       " ('int_rate_group_11-13', 0.36309003193845824),\n",
       " ('int_rate_group_13-15', 0.4385612110967469),\n",
       " ('int_rate_group_20+', 0.428632174658534),\n",
       " ('dti_group_5-10', -0.05978265952944992),\n",
       " ('dti_group_10-15', -0.07007955117320197),\n",
       " ('dti_group_15-20', -0.07563823170272124),\n",
       " ('dti_group_20-25', -0.08083871533802128),\n",
       " ('dti_group_25+', -0.05405601381200179)]"
      ]
     },
     "execution_count": 462,
     "metadata": {},
     "output_type": "execute_result"
    }
   ],
   "source": [
    "feature_cols = df.drop('default',axis=1).columns.values\n",
    "list(zip(feature_cols, log_reg.coef_[0]))"
   ]
  },
  {
   "cell_type": "code",
   "execution_count": 528,
   "metadata": {
    "scrolled": false
   },
   "outputs": [
    {
     "data": {
      "text/plain": [
       "default\n",
       "0    11.767331\n",
       "1    13.508565\n",
       "Name: int_rate, dtype: float64"
      ]
     },
     "execution_count": 528,
     "metadata": {},
     "output_type": "execute_result"
    }
   ],
   "source": [
    "df.groupby('default').mean()['int_rate']"
   ]
  },
  {
   "cell_type": "markdown",
   "metadata": {},
   "source": [
    "We would invest only in the loans that were predicted as 0 by the model (non-default). The model predict that 8069+899 loans are not risky, and gets 899 of them wrong (90% precision rate for zeroes). This means that in order to make money, we would have to lose on a loan at most 9x more of what we earn on the loans where we don't loose.\n",
    "\n",
    "In fact, we get 12% interest on an average good loan. Even if we loose all the money from the non-performing loans (which is very unlikely), we would expect to earn interst of 0.9*12% + 0.1*(-100%) > 0 "
   ]
  },
  {
   "cell_type": "markdown",
   "metadata": {},
   "source": [
    "### 1) What percentage of loans has been fully paid?"
   ]
  },
  {
   "cell_type": "code",
   "execution_count": 452,
   "metadata": {
    "scrolled": true
   },
   "outputs": [
    {
     "name": "stdout",
     "output_type": "stream",
     "text": [
      "loan_status\n",
      "Fully Paid                                             63357\n",
      "Charged Off                                             9071\n",
      "Does not meet the credit policy. Status:Fully Paid      1789\n",
      "Does not meet the credit policy. Status:Charged Off      649\n",
      "Late (31-120 days)                                        81\n",
      "Current                                                   33\n",
      "Default                                                   12\n",
      "Late (16-30 days)                                          6\n",
      "In Grace Period                                            6\n",
      "dtype: int64\n"
     ]
    }
   ],
   "source": [
    "by_loan_status = df_subset.groupby('loan_status').size().sort_values(ascending=False)\n",
    "print(by_loan_status)"
   ]
  },
  {
   "cell_type": "markdown",
   "metadata": {},
   "source": [
    "Most of the loans are either fully paid or charged off after 36 months. Some loans (3% of all) are not currently meeting the credit policy. Only small proportion of loands (<0.2%) have one of other statuses."
   ]
  },
  {
   "cell_type": "markdown",
   "metadata": {},
   "source": [
    "There are two types of loans that are marked as fully paid:\n",
    "- Fully paid\n",
    "- Does not meet the credit policy. Status:Fully Paid\n",
    "\n",
    "We will calculate the percentage for all fully paid and only the ones meeting credit policy"
   ]
  },
  {
   "cell_type": "code",
   "execution_count": 453,
   "metadata": {},
   "outputs": [
    {
     "name": "stdout",
     "output_type": "stream",
     "text": [
      "Fully paid loans (incl. not meeting credit policy) as % of all loans: 0.8685670097594795\n",
      "Fully paid loans as % of all loans: 0.8447149485360781\n",
      "Fully paid loans (incl. not meeting credit policy) as % of loans that meet credit policy: 0.8730948378028278\n"
     ]
    }
   ],
   "source": [
    "all_fully_paid = sum(by_loan_status.loc[['Fully Paid', 'Does not meet the credit policy. Status:Fully Paid']])\n",
    "fully_paid_within_policy = by_loan_status.loc['Fully Paid']\n",
    "all_loans = len(df)\n",
    "loans_within_policy = len(df) - sum(by_loan_status.loc[[\n",
    "    'Does not meet the credit policy. Status:Charged Off', 'Does not meet the credit policy. Status:Fully Paid']])\n",
    "print('Fully paid loans (incl. not meeting credit policy) as % of all loans:', all_fully_paid / all_loans)\n",
    "print('Fully paid loans as % of all loans:', fully_paid_within_policy / all_loans)\n",
    "print('Fully paid loans (incl. not meeting credit policy) as % of loans that meet credit policy:', fully_paid_within_policy / loans_within_policy)"
   ]
  },
  {
   "cell_type": "markdown",
   "metadata": {},
   "source": [
    "#### ANSWER: Fully paid loans represent ~84-87% of all loans, depending on how we define it"
   ]
  },
  {
   "cell_type": "markdown",
   "metadata": {},
   "source": [
    "### 2) When bucketed by year of origination and grade, which cohort has the highest rate of defaults? Here you may assume that any loan which was not fully paid had “defaulted”."
   ]
  },
  {
   "cell_type": "markdown",
   "metadata": {},
   "source": [
    "Assuming that all non-fully paid loans are defaulted"
   ]
  },
  {
   "cell_type": "code",
   "execution_count": 455,
   "metadata": {},
   "outputs": [
    {
     "name": "stdout",
     "output_type": "stream",
     "text": [
      "default\n",
      "0    63357\n",
      "1    11647\n",
      "dtype: int64\n"
     ]
    }
   ],
   "source": [
    "df_subset['default'] = 1\n",
    "df_subset.loc[df_subset['loan_status'] == 'Fully Paid', 'default'] = 0\n",
    "by_default = df_subset.groupby('default').size().sort_values(ascending=False)\n",
    "print(by_default)"
   ]
  },
  {
   "cell_type": "markdown",
   "metadata": {},
   "source": [
    "First we look at the number of loans for each of the cohorts. More recent loands are more common (growing business) and high grades (E-G) are fairly rare."
   ]
  },
  {
   "cell_type": "code",
   "execution_count": 456,
   "metadata": {},
   "outputs": [
    {
     "data": {
      "text/html": [
       "<div>\n",
       "<style scoped>\n",
       "    .dataframe tbody tr th:only-of-type {\n",
       "        vertical-align: middle;\n",
       "    }\n",
       "\n",
       "    .dataframe tbody tr th {\n",
       "        vertical-align: top;\n",
       "    }\n",
       "\n",
       "    .dataframe thead tr th {\n",
       "        text-align: left;\n",
       "    }\n",
       "\n",
       "    .dataframe thead tr:last-of-type th {\n",
       "        text-align: right;\n",
       "    }\n",
       "</style>\n",
       "<table border=\"1\" class=\"dataframe\">\n",
       "  <thead>\n",
       "    <tr>\n",
       "      <th></th>\n",
       "      <th colspan=\"7\" halign=\"left\">default</th>\n",
       "    </tr>\n",
       "    <tr>\n",
       "      <th>grade</th>\n",
       "      <th>A</th>\n",
       "      <th>B</th>\n",
       "      <th>C</th>\n",
       "      <th>D</th>\n",
       "      <th>E</th>\n",
       "      <th>F</th>\n",
       "      <th>G</th>\n",
       "    </tr>\n",
       "    <tr>\n",
       "      <th>issue_year</th>\n",
       "      <th></th>\n",
       "      <th></th>\n",
       "      <th></th>\n",
       "      <th></th>\n",
       "      <th></th>\n",
       "      <th></th>\n",
       "      <th></th>\n",
       "    </tr>\n",
       "  </thead>\n",
       "  <tbody>\n",
       "    <tr>\n",
       "      <th>2007</th>\n",
       "      <td>78</td>\n",
       "      <td>98</td>\n",
       "      <td>141</td>\n",
       "      <td>99</td>\n",
       "      <td>100</td>\n",
       "      <td>52</td>\n",
       "      <td>35</td>\n",
       "    </tr>\n",
       "    <tr>\n",
       "      <th>2008</th>\n",
       "      <td>318</td>\n",
       "      <td>594</td>\n",
       "      <td>580</td>\n",
       "      <td>419</td>\n",
       "      <td>285</td>\n",
       "      <td>111</td>\n",
       "      <td>86</td>\n",
       "    </tr>\n",
       "    <tr>\n",
       "      <th>2009</th>\n",
       "      <td>1203</td>\n",
       "      <td>1445</td>\n",
       "      <td>1348</td>\n",
       "      <td>817</td>\n",
       "      <td>308</td>\n",
       "      <td>105</td>\n",
       "      <td>55</td>\n",
       "    </tr>\n",
       "    <tr>\n",
       "      <th>2010</th>\n",
       "      <td>2567</td>\n",
       "      <td>2805</td>\n",
       "      <td>2070</td>\n",
       "      <td>1253</td>\n",
       "      <td>336</td>\n",
       "      <td>91</td>\n",
       "      <td>34</td>\n",
       "    </tr>\n",
       "    <tr>\n",
       "      <th>2011</th>\n",
       "      <td>5579</td>\n",
       "      <td>4722</td>\n",
       "      <td>2203</td>\n",
       "      <td>1261</td>\n",
       "      <td>272</td>\n",
       "      <td>54</td>\n",
       "      <td>10</td>\n",
       "    </tr>\n",
       "    <tr>\n",
       "      <th>2012</th>\n",
       "      <td>10753</td>\n",
       "      <td>16805</td>\n",
       "      <td>9902</td>\n",
       "      <td>5088</td>\n",
       "      <td>795</td>\n",
       "      <td>103</td>\n",
       "      <td>24</td>\n",
       "    </tr>\n",
       "  </tbody>\n",
       "</table>\n",
       "</div>"
      ],
      "text/plain": [
       "           default                                 \n",
       "grade            A      B     C     D    E    F   G\n",
       "issue_year                                         \n",
       "2007            78     98   141    99  100   52  35\n",
       "2008           318    594   580   419  285  111  86\n",
       "2009          1203   1445  1348   817  308  105  55\n",
       "2010          2567   2805  2070  1253  336   91  34\n",
       "2011          5579   4722  2203  1261  272   54  10\n",
       "2012         10753  16805  9902  5088  795  103  24"
      ]
     },
     "execution_count": 456,
     "metadata": {},
     "output_type": "execute_result"
    }
   ],
   "source": [
    "df_subset.groupby(['issue_year', 'grade']).count()[['default']].unstack(1).fillna(0)"
   ]
  },
  {
   "cell_type": "markdown",
   "metadata": {},
   "source": [
    "Defaults rates for loans issued in 2007 (66%) and 2008 (45%) are much higher than for more current years (11-22%). This may be related to the financial crisis that negatively affected financial condition of lenders"
   ]
  },
  {
   "cell_type": "code",
   "execution_count": 457,
   "metadata": {},
   "outputs": [
    {
     "data": {
      "text/html": [
       "<div>\n",
       "<style scoped>\n",
       "    .dataframe tbody tr th:only-of-type {\n",
       "        vertical-align: middle;\n",
       "    }\n",
       "\n",
       "    .dataframe tbody tr th {\n",
       "        vertical-align: top;\n",
       "    }\n",
       "\n",
       "    .dataframe thead th {\n",
       "        text-align: right;\n",
       "    }\n",
       "</style>\n",
       "<table border=\"1\" class=\"dataframe\">\n",
       "  <thead>\n",
       "    <tr style=\"text-align: right;\">\n",
       "      <th>issue_year</th>\n",
       "      <th>2007</th>\n",
       "      <th>2008</th>\n",
       "      <th>2009</th>\n",
       "      <th>2010</th>\n",
       "      <th>2011</th>\n",
       "      <th>2012</th>\n",
       "    </tr>\n",
       "  </thead>\n",
       "  <tbody>\n",
       "    <tr>\n",
       "      <th>default</th>\n",
       "      <td>0.658375</td>\n",
       "      <td>0.450481</td>\n",
       "      <td>0.219466</td>\n",
       "      <td>0.167322</td>\n",
       "      <td>0.106305</td>\n",
       "      <td>0.137612</td>\n",
       "    </tr>\n",
       "  </tbody>\n",
       "</table>\n",
       "</div>"
      ],
      "text/plain": [
       "issue_year      2007      2008      2009      2010      2011      2012\n",
       "default     0.658375  0.450481  0.219466  0.167322  0.106305  0.137612"
      ]
     },
     "execution_count": 457,
     "metadata": {},
     "output_type": "execute_result"
    }
   ],
   "source": [
    "df_subset.groupby(['issue_year']).mean()[['default']].T"
   ]
  },
  {
   "cell_type": "markdown",
   "metadata": {},
   "source": [
    "Default rates are more common for higher grades of loans, across all loand issue year. This suggests that the LC policy reflects quite well the riskiness of loans. The exception are loans from 2012 where grades F and G had lower default rates than grades D and E, however number of loans for grades F and G is relatively low."
   ]
  },
  {
   "cell_type": "code",
   "execution_count": 458,
   "metadata": {},
   "outputs": [
    {
     "data": {
      "text/html": [
       "<div>\n",
       "<style scoped>\n",
       "    .dataframe tbody tr th:only-of-type {\n",
       "        vertical-align: middle;\n",
       "    }\n",
       "\n",
       "    .dataframe tbody tr th {\n",
       "        vertical-align: top;\n",
       "    }\n",
       "\n",
       "    .dataframe thead th {\n",
       "        text-align: right;\n",
       "    }\n",
       "</style>\n",
       "<table border=\"1\" class=\"dataframe\">\n",
       "  <thead>\n",
       "    <tr style=\"text-align: right;\">\n",
       "      <th>grade</th>\n",
       "      <th>A</th>\n",
       "      <th>B</th>\n",
       "      <th>C</th>\n",
       "      <th>D</th>\n",
       "      <th>E</th>\n",
       "      <th>F</th>\n",
       "      <th>G</th>\n",
       "    </tr>\n",
       "  </thead>\n",
       "  <tbody>\n",
       "    <tr>\n",
       "      <th>default</th>\n",
       "      <td>0.070446</td>\n",
       "      <td>0.130719</td>\n",
       "      <td>0.197119</td>\n",
       "      <td>0.256014</td>\n",
       "      <td>0.375477</td>\n",
       "      <td>0.536822</td>\n",
       "      <td>0.77459</td>\n",
       "    </tr>\n",
       "  </tbody>\n",
       "</table>\n",
       "</div>"
      ],
      "text/plain": [
       "grade           A         B         C         D         E         F        G\n",
       "default  0.070446  0.130719  0.197119  0.256014  0.375477  0.536822  0.77459"
      ]
     },
     "execution_count": 458,
     "metadata": {},
     "output_type": "execute_result"
    }
   ],
   "source": [
    "df_subset.groupby(['grade']).mean()[['default']].T"
   ]
  },
  {
   "cell_type": "code",
   "execution_count": 459,
   "metadata": {},
   "outputs": [
    {
     "data": {
      "text/html": [
       "<div>\n",
       "<style scoped>\n",
       "    .dataframe tbody tr th:only-of-type {\n",
       "        vertical-align: middle;\n",
       "    }\n",
       "\n",
       "    .dataframe tbody tr th {\n",
       "        vertical-align: top;\n",
       "    }\n",
       "\n",
       "    .dataframe thead tr th {\n",
       "        text-align: left;\n",
       "    }\n",
       "\n",
       "    .dataframe thead tr:last-of-type th {\n",
       "        text-align: right;\n",
       "    }\n",
       "</style>\n",
       "<table border=\"1\" class=\"dataframe\">\n",
       "  <thead>\n",
       "    <tr>\n",
       "      <th></th>\n",
       "      <th colspan=\"7\" halign=\"left\">default</th>\n",
       "    </tr>\n",
       "    <tr>\n",
       "      <th>grade</th>\n",
       "      <th>A</th>\n",
       "      <th>B</th>\n",
       "      <th>C</th>\n",
       "      <th>D</th>\n",
       "      <th>E</th>\n",
       "      <th>F</th>\n",
       "      <th>G</th>\n",
       "    </tr>\n",
       "    <tr>\n",
       "      <th>issue_year</th>\n",
       "      <th></th>\n",
       "      <th></th>\n",
       "      <th></th>\n",
       "      <th></th>\n",
       "      <th></th>\n",
       "      <th></th>\n",
       "      <th></th>\n",
       "    </tr>\n",
       "  </thead>\n",
       "  <tbody>\n",
       "    <tr>\n",
       "      <th>2007</th>\n",
       "      <td>0.282051</td>\n",
       "      <td>0.459184</td>\n",
       "      <td>0.567376</td>\n",
       "      <td>0.777778</td>\n",
       "      <td>0.910000</td>\n",
       "      <td>0.903846</td>\n",
       "      <td>1.000000</td>\n",
       "    </tr>\n",
       "    <tr>\n",
       "      <th>2008</th>\n",
       "      <td>0.125786</td>\n",
       "      <td>0.271044</td>\n",
       "      <td>0.379310</td>\n",
       "      <td>0.599045</td>\n",
       "      <td>0.778947</td>\n",
       "      <td>0.900901</td>\n",
       "      <td>0.976744</td>\n",
       "    </tr>\n",
       "    <tr>\n",
       "      <th>2009</th>\n",
       "      <td>0.086451</td>\n",
       "      <td>0.163322</td>\n",
       "      <td>0.245549</td>\n",
       "      <td>0.334149</td>\n",
       "      <td>0.399351</td>\n",
       "      <td>0.495238</td>\n",
       "      <td>0.727273</td>\n",
       "    </tr>\n",
       "    <tr>\n",
       "      <th>2010</th>\n",
       "      <td>0.053370</td>\n",
       "      <td>0.134403</td>\n",
       "      <td>0.224155</td>\n",
       "      <td>0.294493</td>\n",
       "      <td>0.348214</td>\n",
       "      <td>0.505495</td>\n",
       "      <td>0.647059</td>\n",
       "    </tr>\n",
       "    <tr>\n",
       "      <th>2011</th>\n",
       "      <td>0.063990</td>\n",
       "      <td>0.105676</td>\n",
       "      <td>0.155243</td>\n",
       "      <td>0.180809</td>\n",
       "      <td>0.205882</td>\n",
       "      <td>0.240741</td>\n",
       "      <td>0.400000</td>\n",
       "    </tr>\n",
       "    <tr>\n",
       "      <th>2012</th>\n",
       "      <td>0.072910</td>\n",
       "      <td>0.127462</td>\n",
       "      <td>0.178247</td>\n",
       "      <td>0.214230</td>\n",
       "      <td>0.223899</td>\n",
       "      <td>0.184466</td>\n",
       "      <td>0.166667</td>\n",
       "    </tr>\n",
       "  </tbody>\n",
       "</table>\n",
       "</div>"
      ],
      "text/plain": [
       "             default                                                    \\\n",
       "grade              A         B         C         D         E         F   \n",
       "issue_year                                                               \n",
       "2007        0.282051  0.459184  0.567376  0.777778  0.910000  0.903846   \n",
       "2008        0.125786  0.271044  0.379310  0.599045  0.778947  0.900901   \n",
       "2009        0.086451  0.163322  0.245549  0.334149  0.399351  0.495238   \n",
       "2010        0.053370  0.134403  0.224155  0.294493  0.348214  0.505495   \n",
       "2011        0.063990  0.105676  0.155243  0.180809  0.205882  0.240741   \n",
       "2012        0.072910  0.127462  0.178247  0.214230  0.223899  0.184466   \n",
       "\n",
       "                      \n",
       "grade              G  \n",
       "issue_year            \n",
       "2007        1.000000  \n",
       "2008        0.976744  \n",
       "2009        0.727273  \n",
       "2010        0.647059  \n",
       "2011        0.400000  \n",
       "2012        0.166667  "
      ]
     },
     "execution_count": 459,
     "metadata": {},
     "output_type": "execute_result"
    }
   ],
   "source": [
    "df_subset.groupby(['issue_year', 'grade']).mean()[['default']].unstack(1).fillna(0)"
   ]
  },
  {
   "cell_type": "markdown",
   "metadata": {},
   "source": [
    "### 3) When bucketed by year of origination and grade, what annualized rate of return have these loans generated on average? For simplicity, use the following approximation:"
   ]
  },
  {
   "cell_type": "markdown",
   "metadata": {},
   "source": [
    "Annualized rate of return = (total_pymnt / funded_amnt) ^ (1/3) - 1"
   ]
  },
  {
   "cell_type": "markdown",
   "metadata": {},
   "source": [
    "Unweighted average ARR amounted to 1.9% per loan"
   ]
  },
  {
   "cell_type": "code",
   "execution_count": 460,
   "metadata": {},
   "outputs": [
    {
     "data": {
      "text/plain": [
       "0.019088078445375235"
      ]
     },
     "execution_count": 460,
     "metadata": {},
     "output_type": "execute_result"
    }
   ],
   "source": [
    "df_subset['arr'] = (df_subset.total_pymnt / df_subset.funded_amnt) ** (1/3) - 1\n",
    "df_subset.arr.mean()"
   ]
  },
  {
   "cell_type": "markdown",
   "metadata": {},
   "source": [
    "Total ARR amounted to 3% for all loans (whole portfolio) weighted by loan amounts"
   ]
  },
  {
   "cell_type": "code",
   "execution_count": 461,
   "metadata": {},
   "outputs": [
    {
     "data": {
      "text/plain": [
       "0.030675197335574556"
      ]
     },
     "execution_count": 461,
     "metadata": {},
     "output_type": "execute_result"
    }
   ],
   "source": [
    "(sum(df_subset.total_pymnt) / sum(df_subset.funded_amnt)) ** (1/3) - 1"
   ]
  },
  {
   "cell_type": "code",
   "execution_count": null,
   "metadata": {},
   "outputs": [],
   "source": []
  }
 ],
 "metadata": {
  "kernelspec": {
   "display_name": "Python 3",
   "language": "python",
   "name": "python3"
  },
  "language_info": {
   "codemirror_mode": {
    "name": "ipython",
    "version": 3
   },
   "file_extension": ".py",
   "mimetype": "text/x-python",
   "name": "python",
   "nbconvert_exporter": "python",
   "pygments_lexer": "ipython3",
   "version": "3.6.5"
  }
 },
 "nbformat": 4,
 "nbformat_minor": 2
}
